{
 "cells": [
  {
   "cell_type": "code",
   "execution_count": null,
   "metadata": {},
   "outputs": [],
   "source": [
    "import keyboard\n",
    "import time\n",
    "from random import randint\n",
    "\n",
    "while True:\n",
    "    a=randint(2,9)\n",
    "    keyboard.press(a)\n",
    "    if keyboard.is_pressed(\"a\"):\n",
    "        print(\"ok\")\n",
    "        break\n",
    "    time.sleep(1/randint(1,6))\n",
    "    keyboard.release(a)"
   ]
  }
 ],
 "metadata": {
  "kernelspec": {
   "display_name": "Python 3",
   "language": "python",
   "name": "python3"
  },
  "language_info": {
   "codemirror_mode": {
    "name": "ipython",
    "version": 3
   },
   "file_extension": ".py",
   "mimetype": "text/x-python",
   "name": "python",
   "nbconvert_exporter": "python",
   "pygments_lexer": "ipython3",
   "version": "3.10.10"
  },
  "orig_nbformat": 4
 },
 "nbformat": 4,
 "nbformat_minor": 2
}
