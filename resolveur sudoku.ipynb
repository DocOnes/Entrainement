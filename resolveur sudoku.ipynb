{
 "cells": [
  {
   "cell_type": "code",
   "execution_count": null,
   "metadata": {},
   "outputs": [],
   "source": [
    "sudoku=[[0,8,1,0,0,0,4,0,0],[6,0,0,0,5,4,0,0,3],[0,0,4,9,1,0,0,7,8],[1,0,5,0,7,0,0,0,0],[8,2,0,5,0,0,0,6,1],[0,0,0,3,8,0,0,4,2],[0,6,0,0,3,7,0,0,4],[4,3,9,0,6,5,0,1,7],[2,0,0,0,9,0,6,3,5]]\n",
    "\n",
    "b=len(sudoku)\n",
    "\n",
    "\n",
    "def resol(sudoku):\n",
    "    for i in sudoku:        # je parcours chaque ligne\n",
    "        if 0 in i:          # vérifie si il y a des cases vides (représenter par un zéro) pas la ligne\n",
    "            return False    # si il y en a le sudoku n'est pas résolu, ça renvoie False\n",
    "    return True             # sinon ça renvoie True et le programme s'arrête\n",
    "\n",
    "def pascarre(sudoku,x,j,i):\n",
    "    for k in range(3):              # je regarde pour les 3 lignes d'un carré\n",
    "        if x in sudoku[j//3*3+k][i//3*3:(i//3+1)*3]:        # je regarde si x est dans les 3 cases de la ligne k du carré\n",
    "            return False            # si il y a x ce n'est pas possible de mettre x donc on renvoie False\n",
    "    return True                     # sinon on renvoie True\n",
    "\n",
    "def pascolonne(sudoku,x,i):\n",
    "    for k in sudoku:        # k prend la valeur de chaque ligne du sudoku\n",
    "        if k[i]==x:         # je vérifie si dans la ligne k il y a x dans la case chercher\n",
    "            return False    # si il y a x ce n'est pas possible de mettre x donc on renvoie False\n",
    "    return True             # sinon on renvoie True\n",
    "\n",
    "while resol(sudoku)!=True:              # tant que le sudoku n'est pas résolu ça cherche encore\n",
    "    for x in range(1,10):                  # je parcours chaque ligne\n",
    "        for j in range(b):           # x prend les valeurs possibles(de 1 à 9)\n",
    "            a=[]\n",
    "            if x not in sudoku[j]:      # je vérifie si x est déjà dans la ligne\n",
    "                for i in range(b):      # je parcours chaque case de la ligne\n",
    "                    if sudoku[j][i]==0 and len(a)<2 and pascolonne(sudoku,x,i)==True and pascarre(sudoku,x,j,i)==True: # le programme vérifie d'abord si la case est vide puis si il y a déjà x dans la colonne et dans le carré\n",
    "                        a.append(i)     # ajoute la case possible pour x dans a\n",
    "                if len(a)==1:           # vérifie si il y a une seule option possible pour x sur la ligne \n",
    "                    sudoku[j][a[0]]=x   # si il y en a qu'une on met x dans la seule option possible\n",
    "\n",
    "for i in sudoku:    # je print par ligne pour que ce soit plus lisible\n",
    "    print(i)"
   ]
  }
 ],
 "metadata": {
  "kernelspec": {
   "display_name": "base",
   "language": "python",
   "name": "python3"
  },
  "language_info": {
   "codemirror_mode": {
    "name": "ipython",
    "version": 3
   },
   "file_extension": ".py",
   "mimetype": "text/x-python",
   "name": "python",
   "nbconvert_exporter": "python",
   "pygments_lexer": "ipython3",
   "version": "3.8.10"
  },
  "orig_nbformat": 4
 },
 "nbformat": 4,
 "nbformat_minor": 2
}
